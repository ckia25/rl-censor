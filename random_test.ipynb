{
 "cells": [
  {
   "cell_type": "code",
   "execution_count": 47,
   "metadata": {},
   "outputs": [
    {
     "name": "stdout",
     "output_type": "stream",
     "text": [
      "The autoreload extension is already loaded. To reload it, use:\n",
      "  %reload_ext autoreload\n"
     ]
    }
   ],
   "source": [
    "import torch\n",
    "from gym2 import *\n",
    "from strategycoding import decode_output, encode_state\n",
    "from packet import packet_summary\n",
    "import matplotlib.pyplot as plt\n",
    "%load_ext autoreload\n",
    "%autoreload 2\n"
   ]
  },
  {
   "cell_type": "code",
   "execution_count": 140,
   "metadata": {},
   "outputs": [
    {
     "ename": "TypeError",
     "evalue": "decode_output() missing 1 required positional argument: 'mask_outputs'",
     "output_type": "error",
     "traceback": [
      "\u001b[0;31m---------------------------------------------------------------------------\u001b[0m",
      "\u001b[0;31mTypeError\u001b[0m                                 Traceback (most recent call last)",
      "Cell \u001b[0;32mIn[140], line 10\u001b[0m\n\u001b[1;32m      8\u001b[0m packet \u001b[39m=\u001b[39m [packets[\u001b[39m0\u001b[39m]]\u001b[39m*\u001b[39mn\n\u001b[1;32m      9\u001b[0m noisy_outputs \u001b[39m=\u001b[39m torch\u001b[39m.\u001b[39mtensor(np\u001b[39m.\u001b[39mrandom\u001b[39m.\u001b[39muniform(\u001b[39m-\u001b[39m\u001b[39m5000\u001b[39m, \u001b[39m5000\u001b[39m, size\u001b[39m=\u001b[39mn\u001b[39m*\u001b[39mPACKET_SIZE))\u001b[39m.\u001b[39mfloat()\n\u001b[0;32m---> 10\u001b[0m modified_packets \u001b[39m=\u001b[39m decode_output(base_packet, packets, noisy_outputs, duplicate\u001b[39m=\u001b[39;49m\u001b[39mTrue\u001b[39;49;00m)\n\u001b[1;32m     11\u001b[0m reward, response_packets \u001b[39m=\u001b[39m evaluator\u001b[39m.\u001b[39mevaluate(modified_packets)\n\u001b[1;32m     12\u001b[0m rewards\u001b[39m.\u001b[39mappend(reward)\n",
      "\u001b[0;31mTypeError\u001b[0m: decode_output() missing 1 required positional argument: 'mask_outputs'"
     ]
    }
   ],
   "source": [
    "count = 0\n",
    "reward = 0\n",
    "rewards = []\n",
    "evaluator = Evaluator(censor_index=2)\n",
    "while(reward < 100):\n",
    "    base_packet, packets, response_packets = reset_environment(evaluator)\n",
    "    n = random.choice([1,2,3,4,5])\n",
    "    packet = [packets[0]]*n\n",
    "    noisy_outputs = torch.tensor(np.random.uniform(-5000, 5000, size=n*PACKET_SIZE)).float()\n",
    "    modified_packets = decode_output(base_packet, packets, noisy_outputs, duplicate=True)\n",
    "    reward, response_packets = evaluator.evaluate(modified_packets)\n",
    "    rewards.append(reward)\n",
    "    if reward > 100:\n",
    "        print(count)\n",
    "        break\n",
    "    if count % 100 == 0:\n",
    "        for p in modified_packets:\n",
    "            packet_summary(p)\n",
    "    # outputs = torch.tensor(np.random.uniform(-1000, 1000, size=NUM_PACKETS*PACKET_SIZE)).float()\n",
    "    # noise = torch.tensor(np.random.normal(0, 11200, size=outputs.shape))\n",
    "    # noisy_outputs = outputs + noise\n",
    "    # indecies = [0,1,2,3] + [0+PACKET_SIZE,1+PACKET_SIZE,2+PACKET_SIZE,3+PACKET_SIZE]\n",
    "    # noisy_outputs[indecies] = -10\n",
    "    \n",
    "\n",
    "\n",
    "\n",
    "\n",
    "    if reward > 100:\n",
    "        print(count)\n",
    "        break\n",
    "    count += 1\n",
    "    if count % 1000 == 0:\n",
    "        print(count)\n",
    "    if count % 10000 == 9999:\n",
    "        plt.plot(np.arange(0, len(rewards), 1), rewards)\n",
    "        plt.show()\n",
    "\n",
    "\n",
    "\n",
    "print('Number of Iterations,',count)\n",
    "print('base:')\n",
    "packet_summary(base_packet)\n",
    "print('modified:')\n",
    "for packet in modified_packets:\n",
    "    packet_summary(packet)\n",
    "print('response')\n",
    "for packet in response_packets:\n",
    "    packet_summary(packet)\n",
    "\n"
   ]
  },
  {
   "cell_type": "code",
   "execution_count": 51,
   "metadata": {},
   "outputs": [],
   "source": [
    "evaluator = Evaluator(censor_index=0)\n",
    "base_packet, packets, response_packets = reset_environment(evaluator)\n",
    "packet = [packets[0]]*5\n",
    "noisy_outputs = torch.tensor(np.random.uniform(-3000, 1000, size=5*PACKET_SIZE)).float()\n",
    "modified_packets = decode_output(base_packet, packets, noisy_outputs, duplicate=False)"
   ]
  },
  {
   "cell_type": "code",
   "execution_count": null,
   "metadata": {},
   "outputs": [],
   "source": [
    "from scapy.all import TCP, IP\n",
    "\n"
   ]
  },
  {
   "cell_type": "code",
   "execution_count": 149,
   "metadata": {},
   "outputs": [
    {
     "data": {
      "image/png": "[encoded data removed]",
      "text/plain": [
       "<Figure size 640x480 with 1 Axes>"
      ]
     },
     "metadata": {},
     "output_type": "display_data"
    }
   ],
   "source": [
    "import pandas as pd\n",
    "import matplotlib.pyplot as plt\n",
    "df = pd.read_csv('rewards4.csv')\n",
    "data = df.to_numpy()\n",
    "y = np.array([[i, group.mean()] for i, group in enumerate(data[::1000,1])])\n",
    "\n",
    "plt.plot(y[:,0], y[:,1])\n",
    "# plt.ylim((-300, 200))\n",
    "\n",
    "plt.show()"
   ]
  }
 ],
 "metadata": {
  "kernelspec": {
   "display_name": "caiden1",
   "language": "python",
   "name": "python3"
  },
  "language_info": {
   "codemirror_mode": {
    "name": "ipython",
    "version": 3
   },
   "file_extension": ".py",
   "mimetype": "text/x-python",
   "name": "python",
   "nbconvert_exporter": "python",
   "pygments_lexer": "ipython3",
   "version": "3.10.10"
  },
  "orig_nbformat": 4
 },
 "nbformat": 4,
 "nbformat_minor": 2
}
