{
 "cells": [
  {
   "cell_type": "code",
   "execution_count": 4,
   "metadata": {},
   "outputs": [
    {
     "name": "stdout",
     "output_type": "stream",
     "text": [
      "The autoreload extension is already loaded. To reload it, use:\n",
      "  %reload_ext autoreload\n"
     ]
    }
   ],
   "source": [
    "import torch\n",
    "from gym2 import *\n",
    "from strategycoding import decode_output, encode_state\n",
    "from packet import packet_summary\n",
    "import matplotlib.pyplot as plt\n",
    "%load_ext autoreload\n",
    "%autoreload 2\n"
   ]
  },
  {
   "cell_type": "code",
   "execution_count": 11,
   "metadata": {},
   "outputs": [
    {
     "name": "stdout",
     "output_type": "stream",
     "text": [
      "1000\n",
      "2000\n",
      "3000\n",
      "4000\n",
      "5000\n",
      "6000\n"
     ]
    },
    {
     "ename": "KeyboardInterrupt",
     "evalue": "",
     "output_type": "error",
     "traceback": [
      "\u001b[0;31m---------------------------------------------------------------------------\u001b[0m",
      "\u001b[0;31mKeyboardInterrupt\u001b[0m                         Traceback (most recent call last)",
      "Cell \u001b[0;32mIn[11], line 6\u001b[0m\n\u001b[1;32m      4\u001b[0m evaluator \u001b[39m=\u001b[39m Evaluator(censor_index\u001b[39m=\u001b[39m\u001b[39m0\u001b[39m)\n\u001b[1;32m      5\u001b[0m \u001b[39mwhile\u001b[39;00m(reward \u001b[39m<\u001b[39m \u001b[39m100\u001b[39m):\n\u001b[0;32m----> 6\u001b[0m     base_packet, packets, response_packets \u001b[39m=\u001b[39m reset_environment(evaluator)\n\u001b[1;32m      7\u001b[0m     \u001b[39mfor\u001b[39;00m step \u001b[39min\u001b[39;00m \u001b[39mrange\u001b[39m(\u001b[39m5\u001b[39m):\n\u001b[1;32m      8\u001b[0m         noisy_outputs \u001b[39m=\u001b[39m torch\u001b[39m.\u001b[39mtensor(np\u001b[39m.\u001b[39mrandom\u001b[39m.\u001b[39muniform(\u001b[39m-\u001b[39m\u001b[39m1000\u001b[39m, \u001b[39m1000\u001b[39m, size\u001b[39m=\u001b[39m\u001b[39m5\u001b[39m\u001b[39m*\u001b[39mPACKET_SIZE))\u001b[39m.\u001b[39mfloat()\n",
      "File \u001b[0;32m~/Desktop/COS_courses/ECE539B/rl-censor-1/gym2.py:89\u001b[0m, in \u001b[0;36mreset_environment\u001b[0;34m(evaluator)\u001b[0m\n\u001b[1;32m     88\u001b[0m \u001b[39mdef\u001b[39;00m \u001b[39mreset_environment\u001b[39m(evaluator):\n\u001b[0;32m---> 89\u001b[0m     base_packet \u001b[39m=\u001b[39m evaluator\u001b[39m.\u001b[39;49mget_base_packet()\n\u001b[1;32m     90\u001b[0m     packets \u001b[39m=\u001b[39m [base_packet]\n\u001b[1;32m     91\u001b[0m     response_packets \u001b[39m=\u001b[39m create_k_empty_response_packets(NUM_PACKETS)\n",
      "File \u001b[0;32m~/Desktop/COS_courses/ECE539B/rl-censor-1/evaluator.py:51\u001b[0m, in \u001b[0;36mEvaluator.get_base_packet\u001b[0;34m(self)\u001b[0m\n\u001b[1;32m     50\u001b[0m \u001b[39mdef\u001b[39;00m \u001b[39mget_base_packet\u001b[39m(\u001b[39mself\u001b[39m):\n\u001b[0;32m---> 51\u001b[0m     \u001b[39mreturn\u001b[39;00m \u001b[39mself\u001b[39;49m\u001b[39m.\u001b[39;49mclient\u001b[39m.\u001b[39;49mcreate_forbidden_packet(forbidden_word\u001b[39m=\u001b[39;49m\u001b[39mself\u001b[39;49m\u001b[39m.\u001b[39;49mforbidden_word)\n",
      "File \u001b[0;32m~/Desktop/COS_courses/ECE539B/rl-censor-1/mockclient.py:23\u001b[0m, in \u001b[0;36mMockClient.create_forbidden_packet\u001b[0;34m(self, forbidden_word)\u001b[0m\n\u001b[1;32m     21\u001b[0m packet \u001b[39m=\u001b[39m ip_layer \u001b[39m/\u001b[39m tcp_layer \u001b[39m/\u001b[39m payload\n\u001b[1;32m     22\u001b[0m compute_ip_chksm(packet)\n\u001b[0;32m---> 23\u001b[0m compute_tcp_chksm(packet)\n\u001b[1;32m     24\u001b[0m \u001b[39mreturn\u001b[39;00m packet\n",
      "File \u001b[0;32m~/Desktop/COS_courses/ECE539B/rl-censor-1/packet.py:75\u001b[0m, in \u001b[0;36mcompute_tcp_chksm\u001b[0;34m(packet)\u001b[0m\n\u001b[1;32m     73\u001b[0m \u001b[39mif\u001b[39;00m IP \u001b[39min\u001b[39;00m packet \u001b[39mand\u001b[39;00m TCP \u001b[39min\u001b[39;00m packet:\n\u001b[1;32m     74\u001b[0m     packet[TCP]\u001b[39m.\u001b[39mchksum \u001b[39m=\u001b[39m \u001b[39mNone\u001b[39;00m\n\u001b[0;32m---> 75\u001b[0m     recalculated_checksum \u001b[39m=\u001b[39m (IP(raw(packet[IP])) \u001b[39m/\u001b[39m TCP(raw(packet[TCP])))[TCP]\u001b[39m.\u001b[39mchksum\n\u001b[1;32m     76\u001b[0m     packet[TCP]\u001b[39m.\u001b[39mchksum \u001b[39m=\u001b[39m recalculated_checksum\n\u001b[1;32m     77\u001b[0m \u001b[39mreturn\u001b[39;00m recalculated_checksum\n",
      "File \u001b[0;32m~/.virtualenvs/caiden1/lib/python3.10/site-packages/scapy/base_classes.py:399\u001b[0m, in \u001b[0;36mPacket_metaclass.__call__\u001b[0;34m(cls, *args, **kargs)\u001b[0m\n\u001b[1;32m    392\u001b[0m         \u001b[39mcls\u001b[39m \u001b[39m=\u001b[39m config\u001b[39m.\u001b[39mconf\u001b[39m.\u001b[39mraw_layer  \u001b[39m# type: ignore\u001b[39;00m\n\u001b[1;32m    393\u001b[0m i \u001b[39m=\u001b[39m \u001b[39mcls\u001b[39m\u001b[39m.\u001b[39m\u001b[39m__new__\u001b[39m(\n\u001b[1;32m    394\u001b[0m     \u001b[39mcls\u001b[39m,  \u001b[39m# type: ignore\u001b[39;00m\n\u001b[1;32m    395\u001b[0m     \u001b[39mcls\u001b[39m\u001b[39m.\u001b[39m\u001b[39m__name__\u001b[39m,\n\u001b[1;32m    396\u001b[0m     \u001b[39mcls\u001b[39m\u001b[39m.\u001b[39m\u001b[39m__bases__\u001b[39m,\n\u001b[1;32m    397\u001b[0m     \u001b[39mcls\u001b[39m\u001b[39m.\u001b[39m\u001b[39m__dict__\u001b[39m\n\u001b[1;32m    398\u001b[0m )\n\u001b[0;32m--> 399\u001b[0m i\u001b[39m.\u001b[39;49m\u001b[39m__init__\u001b[39;49m(\u001b[39m*\u001b[39;49margs, \u001b[39m*\u001b[39;49m\u001b[39m*\u001b[39;49mkargs)\n\u001b[1;32m    400\u001b[0m \u001b[39mreturn\u001b[39;00m i\n",
      "File \u001b[0;32m~/.virtualenvs/caiden1/lib/python3.10/site-packages/scapy/packet.py:165\u001b[0m, in \u001b[0;36mPacket.__init__\u001b[0;34m(self, _pkt, post_transform, _internal, _underlayer, _parent, **fields)\u001b[0m\n\u001b[1;32m    163\u001b[0m \u001b[39mself\u001b[39m\u001b[39m.\u001b[39mcomment \u001b[39m=\u001b[39m \u001b[39mNone\u001b[39;00m  \u001b[39m# type: Optional[bytes]\u001b[39;00m\n\u001b[1;32m    164\u001b[0m \u001b[39mif\u001b[39;00m _pkt:\n\u001b[0;32m--> 165\u001b[0m     \u001b[39mself\u001b[39;49m\u001b[39m.\u001b[39;49mdissect(_pkt)\n\u001b[1;32m    166\u001b[0m     \u001b[39mif\u001b[39;00m \u001b[39mnot\u001b[39;00m _internal:\n\u001b[1;32m    167\u001b[0m         \u001b[39mself\u001b[39m\u001b[39m.\u001b[39mdissection_done(\u001b[39mself\u001b[39m)\n",
      "File \u001b[0;32m~/.virtualenvs/caiden1/lib/python3.10/site-packages/scapy/packet.py:1034\u001b[0m, in \u001b[0;36mPacket.dissect\u001b[0;34m(self, s)\u001b[0m\n\u001b[1;32m   1031\u001b[0m s \u001b[39m=\u001b[39m \u001b[39mself\u001b[39m\u001b[39m.\u001b[39mpost_dissect(s)\n\u001b[1;32m   1033\u001b[0m payl, pad \u001b[39m=\u001b[39m \u001b[39mself\u001b[39m\u001b[39m.\u001b[39mextract_padding(s)\n\u001b[0;32m-> 1034\u001b[0m \u001b[39mself\u001b[39;49m\u001b[39m.\u001b[39;49mdo_dissect_payload(payl)\n\u001b[1;32m   1035\u001b[0m \u001b[39mif\u001b[39;00m pad \u001b[39mand\u001b[39;00m conf\u001b[39m.\u001b[39mpadding:\n\u001b[1;32m   1036\u001b[0m     \u001b[39mself\u001b[39m\u001b[39m.\u001b[39madd_payload(conf\u001b[39m.\u001b[39mpadding_layer(pad))\n",
      "File \u001b[0;32m~/.virtualenvs/caiden1/lib/python3.10/site-packages/scapy/packet.py:1009\u001b[0m, in \u001b[0;36mPacket.do_dissect_payload\u001b[0;34m(self, s)\u001b[0m\n\u001b[1;32m   1007\u001b[0m \u001b[39mcls\u001b[39m \u001b[39m=\u001b[39m \u001b[39mself\u001b[39m\u001b[39m.\u001b[39mguess_payload_class(s)\n\u001b[1;32m   1008\u001b[0m \u001b[39mtry\u001b[39;00m:\n\u001b[0;32m-> 1009\u001b[0m     p \u001b[39m=\u001b[39m \u001b[39mcls\u001b[39;49m(s, _internal\u001b[39m=\u001b[39;49m\u001b[39m1\u001b[39;49m, _underlayer\u001b[39m=\u001b[39;49m\u001b[39mself\u001b[39;49m)\n\u001b[1;32m   1010\u001b[0m \u001b[39mexcept\u001b[39;00m \u001b[39mKeyboardInterrupt\u001b[39;00m:\n\u001b[1;32m   1011\u001b[0m     \u001b[39mraise\u001b[39;00m\n",
      "File \u001b[0;32m~/.virtualenvs/caiden1/lib/python3.10/site-packages/scapy/base_classes.py:399\u001b[0m, in \u001b[0;36mPacket_metaclass.__call__\u001b[0;34m(cls, *args, **kargs)\u001b[0m\n\u001b[1;32m    392\u001b[0m         \u001b[39mcls\u001b[39m \u001b[39m=\u001b[39m config\u001b[39m.\u001b[39mconf\u001b[39m.\u001b[39mraw_layer  \u001b[39m# type: ignore\u001b[39;00m\n\u001b[1;32m    393\u001b[0m i \u001b[39m=\u001b[39m \u001b[39mcls\u001b[39m\u001b[39m.\u001b[39m\u001b[39m__new__\u001b[39m(\n\u001b[1;32m    394\u001b[0m     \u001b[39mcls\u001b[39m,  \u001b[39m# type: ignore\u001b[39;00m\n\u001b[1;32m    395\u001b[0m     \u001b[39mcls\u001b[39m\u001b[39m.\u001b[39m\u001b[39m__name__\u001b[39m,\n\u001b[1;32m    396\u001b[0m     \u001b[39mcls\u001b[39m\u001b[39m.\u001b[39m\u001b[39m__bases__\u001b[39m,\n\u001b[1;32m    397\u001b[0m     \u001b[39mcls\u001b[39m\u001b[39m.\u001b[39m\u001b[39m__dict__\u001b[39m\n\u001b[1;32m    398\u001b[0m )\n\u001b[0;32m--> 399\u001b[0m i\u001b[39m.\u001b[39;49m\u001b[39m__init__\u001b[39;49m(\u001b[39m*\u001b[39;49margs, \u001b[39m*\u001b[39;49m\u001b[39m*\u001b[39;49mkargs)\n\u001b[1;32m    400\u001b[0m \u001b[39mreturn\u001b[39;00m i\n",
      "File \u001b[0;32m~/.virtualenvs/caiden1/lib/python3.10/site-packages/scapy/packet.py:1861\u001b[0m, in \u001b[0;36mRaw.__init__\u001b[0;34m(self, _pkt, *args, **kwargs)\u001b[0m\n\u001b[1;32m   1859\u001b[0m \u001b[39mif\u001b[39;00m _pkt \u001b[39mand\u001b[39;00m \u001b[39mnot\u001b[39;00m \u001b[39misinstance\u001b[39m(_pkt, \u001b[39mbytes\u001b[39m):\n\u001b[1;32m   1860\u001b[0m     _pkt \u001b[39m=\u001b[39m bytes_encode(_pkt)\n\u001b[0;32m-> 1861\u001b[0m \u001b[39msuper\u001b[39;49m(Raw, \u001b[39mself\u001b[39;49m)\u001b[39m.\u001b[39;49m\u001b[39m__init__\u001b[39;49m(_pkt, \u001b[39m*\u001b[39;49margs, \u001b[39m*\u001b[39;49m\u001b[39m*\u001b[39;49mkwargs)\n",
      "File \u001b[0;32m~/.virtualenvs/caiden1/lib/python3.10/site-packages/scapy/packet.py:165\u001b[0m, in \u001b[0;36mPacket.__init__\u001b[0;34m(self, _pkt, post_transform, _internal, _underlayer, _parent, **fields)\u001b[0m\n\u001b[1;32m    163\u001b[0m \u001b[39mself\u001b[39m\u001b[39m.\u001b[39mcomment \u001b[39m=\u001b[39m \u001b[39mNone\u001b[39;00m  \u001b[39m# type: Optional[bytes]\u001b[39;00m\n\u001b[1;32m    164\u001b[0m \u001b[39mif\u001b[39;00m _pkt:\n\u001b[0;32m--> 165\u001b[0m     \u001b[39mself\u001b[39;49m\u001b[39m.\u001b[39;49mdissect(_pkt)\n\u001b[1;32m    166\u001b[0m     \u001b[39mif\u001b[39;00m \u001b[39mnot\u001b[39;00m _internal:\n\u001b[1;32m    167\u001b[0m         \u001b[39mself\u001b[39m\u001b[39m.\u001b[39mdissection_done(\u001b[39mself\u001b[39m)\n",
      "File \u001b[0;32m~/.virtualenvs/caiden1/lib/python3.10/site-packages/scapy/packet.py:1034\u001b[0m, in \u001b[0;36mPacket.dissect\u001b[0;34m(self, s)\u001b[0m\n\u001b[1;32m   1031\u001b[0m s \u001b[39m=\u001b[39m \u001b[39mself\u001b[39m\u001b[39m.\u001b[39mpost_dissect(s)\n\u001b[1;32m   1033\u001b[0m payl, pad \u001b[39m=\u001b[39m \u001b[39mself\u001b[39m\u001b[39m.\u001b[39mextract_padding(s)\n\u001b[0;32m-> 1034\u001b[0m \u001b[39mself\u001b[39;49m\u001b[39m.\u001b[39;49mdo_dissect_payload(payl)\n\u001b[1;32m   1035\u001b[0m \u001b[39mif\u001b[39;00m pad \u001b[39mand\u001b[39;00m conf\u001b[39m.\u001b[39mpadding:\n\u001b[1;32m   1036\u001b[0m     \u001b[39mself\u001b[39m\u001b[39m.\u001b[39madd_payload(conf\u001b[39m.\u001b[39mpadding_layer(pad))\n",
      "File \u001b[0;32m~/.virtualenvs/caiden1/lib/python3.10/site-packages/scapy/packet.py:999\u001b[0m, in \u001b[0;36mPacket.do_dissect_payload\u001b[0;34m(self, s)\u001b[0m\n\u001b[1;32m    996\u001b[0m     \u001b[39mself\u001b[39m\u001b[39m.\u001b[39mexplicit \u001b[39m=\u001b[39m \u001b[39m1\u001b[39m\n\u001b[1;32m    997\u001b[0m     \u001b[39mreturn\u001b[39;00m s\n\u001b[0;32m--> 999\u001b[0m \u001b[39mdef\u001b[39;00m \u001b[39mdo_dissect_payload\u001b[39m(\u001b[39mself\u001b[39m, s):\n\u001b[1;32m   1000\u001b[0m     \u001b[39m# type: (bytes) -> None\u001b[39;00m\n\u001b[1;32m   1001\u001b[0m \u001b[39m    \u001b[39m\u001b[39m\"\"\"\u001b[39;00m\n\u001b[1;32m   1002\u001b[0m \u001b[39m    Perform the dissection of the layer's payload\u001b[39;00m\n\u001b[1;32m   1003\u001b[0m \n\u001b[1;32m   1004\u001b[0m \u001b[39m    :param str s: the raw layer\u001b[39;00m\n\u001b[1;32m   1005\u001b[0m \u001b[39m    \"\"\"\u001b[39;00m\n\u001b[1;32m   1006\u001b[0m     \u001b[39mif\u001b[39;00m s:\n",
      "\u001b[0;31mKeyboardInterrupt\u001b[0m: "
     ]
    }
   ],
   "source": [
    "count = 0\n",
    "reward = 0\n",
    "rewards = []\n",
    "evaluator = Evaluator(censor_index=0)\n",
    "while(reward < 100):\n",
    "    base_packet, packets, response_packets = reset_environment(evaluator)\n",
    "    for step in range(5):\n",
    "        noisy_outputs = torch.tensor(np.random.uniform(-1000, 1000, size=5*PACKET_SIZE)).float()\n",
    "        modified_packets = decode_output(base_packet, packets, noisy_outputs, duplicate=False)\n",
    "        reward, response_packets = evaluator.evaluate(modified_packets)\n",
    "        rewards.append(reward)\n",
    "        if reward > 100:\n",
    "            print(count)\n",
    "            break\n",
    "    # outputs = torch.tensor(np.random.uniform(-1000, 1000, size=NUM_PACKETS*PACKET_SIZE)).float()\n",
    "    # noise = torch.tensor(np.random.normal(0, 11200, size=outputs.shape))\n",
    "    # noisy_outputs = outputs + noise\n",
    "    # indecies = [0,1,2,3] + [0+PACKET_SIZE,1+PACKET_SIZE,2+PACKET_SIZE,3+PACKET_SIZE]\n",
    "    # noisy_outputs[indecies] = -10\n",
    "    \n",
    "\n",
    "\n",
    "\n",
    "\n",
    "    if reward > 100:\n",
    "        print(count)\n",
    "        break\n",
    "    count += 1\n",
    "    if count % 1000 == 0:\n",
    "        print(count)\n",
    "    if count % 10000 == 9999:\n",
    "        plt.plot(np.arange(0, len(rewards), 1), rewards)\n",
    "        plt.show()\n",
    "\n",
    "\n",
    "\n",
    "print('Number of Iterations,',count)\n",
    "print('base:')\n",
    "packet_summary(base_packet)\n",
    "print('modified:')\n",
    "for packet in modified_packets:\n",
    "    packet_summary(packet)\n",
    "print('response')\n",
    "for packet in response_packets:\n",
    "    packet_summary(packet)\n",
    "\n"
   ]
  },
  {
   "cell_type": "code",
   "execution_count": 4,
   "metadata": {},
   "outputs": [
    {
     "data": {
      "image/png": "[encoded data removed]",
      "text/plain": [
       "<Figure size 640x480 with 1 Axes>"
      ]
     },
     "metadata": {},
     "output_type": "display_data"
    }
   ],
   "source": [
    "import pandas as pd\n",
    "import matplotlib.pyplot as plt\n",
    "df = pd.read_csv('rewards4.csv')\n",
    "data = df.to_numpy()\n",
    "y = np.array([[i, group.mean()] for i, group in enumerate(data[::50,1])])\n",
    "\n",
    "plt.plot(y[:,0], y[:,1])\n",
    "\n",
    "\n",
    "plt.show()"
   ]
  }
 ],
 "metadata": {
  "kernelspec": {
   "display_name": "caiden1",
   "language": "python",
   "name": "python3"
  },
  "language_info": {
   "codemirror_mode": {
    "name": "ipython",
    "version": 3
   },
   "file_extension": ".py",
   "mimetype": "text/x-python",
   "name": "python",
   "nbconvert_exporter": "python",
   "pygments_lexer": "ipython3",
   "version": "3.10.10"
  },
  "orig_nbformat": 4
 },
 "nbformat": 4,
 "nbformat_minor": 2
}
